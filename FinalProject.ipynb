{
 "cells": [
  {
   "cell_type": "markdown",
   "metadata": {},
   "source": [
    "# COGS 108 - Final Project "
   ]
  },
  {
   "cell_type": "markdown",
   "metadata": {},
   "source": [
    "# Overview"
   ]
  },
  {
   "cell_type": "markdown",
   "metadata": {},
   "source": [
    "The Apple iOS App Store houses a plethora of apps ranging from Productivity, Gaming, Shopping, and more. In order to better understand what features contribute to a popular app, we analyzed a Kaggle dataset relating to 7,200 mobile apps in the iOS App Store. By creating various graphs, we questioned whether there was a relationship between an app’s average rating, number of ratings, primary genre/category, content rating, and price, which can be seen under our analysis. If there is, we can generally assume that certain features will increase the likelihood of an app’s popularity."
   ]
  },
  {
   "cell_type": "markdown",
   "metadata": {},
   "source": [
    "# Names\n",
    "\n",
    "- Bianca Moy \n",
    "- Tiara Nguyen \n",
    "- Nicolette Shin \n",
    "- Mindy Xu \n",
    "- Ooduah Orafidiya "
   ]
  },
  {
   "cell_type": "markdown",
   "metadata": {},
   "source": [
    "# Research Question"
   ]
  },
  {
   "cell_type": "markdown",
   "metadata": {},
   "source": [
    "How does an app’s features - content rating, number of ratings, average user rating, and category in the App Store - play a role in an app’s popularity?\n",
    "\n",
    "As a group, our subjective definition of popularity is the number of reviews left on an app. From\n",
    "our understanding, for every review left on an app, that indicates at least one download."
   ]
  },
  {
   "cell_type": "markdown",
   "metadata": {},
   "source": [
    "## Background and Prior Work"
   ]
  },
  {
   "cell_type": "markdown",
   "metadata": {},
   "source": [
    "\n",
    "All of the members of this group own an iPhone, and in most countries, it is the most popular mobile device (DeviceAtlas). Each of our phones contain a plethora of apps ranging from productivity to social media to gaming. Our project analyzes the features of 7,200 apps from the App Store and aims to discover if there is a correlation present between that and an app's overall popularity. \n",
    " \n",
    "To prepare for this project, our group primarily worked towards navigating Apple’s API in order to extract information beyond what was provided in our Kaggle dataset. In efforts to retrieve information such as number of downloads, which was not a variable listed under our dataset, we researched various articles to help utilize their software. Unfortunately, our group was unsuccessful in figuring out the API, thus, we only analyzed the information from our Kaggle data set (Kaggle Dataset). \n",
    " \n",
    "Despite our failed efforts, we were still able to continue with our data analysis in exploring our research question. \n",
    "\n",
    "\n",
    "References (include links):\n",
    "- https://deviceatlas.com/blog/most-popular-smartphones\n",
    "- https://www.digitaltrends.com/mobile/android-vs-ios/"
   ]
  },
  {
   "cell_type": "markdown",
   "metadata": {},
   "source": [
    "# Hypothesis\n"
   ]
  },
  {
   "cell_type": "markdown",
   "metadata": {},
   "source": [
    "Null Hypothesis: <br/>\n",
    "There is no correlation between the price, number of ratings, average user rating, category, and content rating of an app and its overall popularity.\n",
    "\n",
    "Alternative Hypothesis: <br/>\n",
    "\n",
    "There is a correlation between:<br/>\n",
    "- Price vs. number of ratings between free and paid apps <br/>\n",
    "We think that users are more willing to leave reviews for free apps since there’s virtually no commitment to downloading an app that’s free.\n",
    "\n",
    "- Price vs. average user rating between free and paid apps <br/>\n",
    "Users who have to pay for an app may have higher expectations for the app’s performance, thus if the performance is great or terrible, they’d be more prompted to leave a review.\n",
    "\n",
    "- Primary genre vs. number of ratings between free and paid apps <br/>\n",
    "Genre/category of the app could have an influence on the number of ratings left on the app\n",
    "\n",
    "- Primary genre vs. average user rating between free and paid apps <br/>\n",
    "Genre/category of the app could have an influence on the overall user rating\n",
    "\n",
    "- Content rating vs. number of ratings between free and paid apps <br/>\n",
    "An app’s content rating (Ages 4+, 12+, 18+, etc) can have an influence on the number of ratings. When you increase the content rating, you’re excluding a portion of the population who may fall under that age. \n",
    "\n",
    "- Content rating vs. average user rating between free and paid apps <br/>\n",
    "An app’s content rating may have an influence on the average user rating of an app. \n"
   ]
  },
  {
   "cell_type": "markdown",
   "metadata": {},
   "source": [
    "# Dataset(s)"
   ]
  },
  {
   "cell_type": "markdown",
   "metadata": {},
   "source": [
    "Link to dataset <br/>\n",
    "https://www.kaggle.com/ramamet4/app-store-apple-data-set-10k-apps?fbclid=IwAR3LP6l4om-A3kb272bckT7oN7ILjFRrruipPmR6gKGNM9PQ5bBv0HUuAik\n",
    "\n",
    "The above data set contained 7197 rows and 16 columns worth of data that gave us insight on the features and details of 7,200 randomly scraped apps. In total, this provided us with 115,152 data points ranging from average user ratings for apps as well as price. We got this dataset from Kaggle.com, and the creator used R and linux web scraping tools to extract the data from Apple’s iTunes Search API.\n",
    "\n",
    "\n",
    "### For our research question we chose to focus on the following variables:\n",
    "- Price Amount\n",
    "- User Rating Counts (total)\n",
    "- Average User Rating Value (for all versions)\n",
    "- Primary Genre\n",
    "- Content Rating\n",
    "\n",
    "### Other variables included in the data set are:\n",
    "- App ID\n",
    "- App Name\n",
    "- Size (in bytes)\n",
    "- Currency Type\n",
    "- User Rating Counts (for current version)\n",
    "- Average User Rating Value (for current version)\n",
    "- Latest Version Code\n",
    "- Number of Supporting Devices\n",
    "- Number of Screenshots Showed for Display\n",
    "- Number of Supported Languages\n",
    "- Vpp Device Based License Enabled\n",
    "\n",
    "### Problems With Our Dataset\n",
    "\n",
    "One issue that we came across with our dataset is that we weren’t aware of the measures taken to choose the 7,200 apps featured. The apps could have been selected through a random number generator or been the top 7,200 apps in the iOS App Store, however, this was not addressed in our dataset’s description and overview. \n",
    "<br/><br/>\n",
    "While consolidating and cleaning our data, we found that a majority of apps present were games. Whether or not this was a purposeful choice made by the user, our group found that this had the ability to skew our results. Therefore, we accounted for this issue in our overall data cleaning process and separated the data into two categories - games and other apps. From here, we created sub-categories for the other apps such as education, business, social media, and more.\n",
    "\n"
   ]
  },
  {
   "cell_type": "markdown",
   "metadata": {},
   "source": [
    "# Setup"
   ]
  },
  {
   "cell_type": "code",
   "execution_count": 1,
   "metadata": {},
   "outputs": [],
   "source": [
    "## YOUR CODE HERE\n",
    "# Imports \n",
    "%matplotlib inline\n",
    "\n",
    "import numpy as np\n",
    "import pandas as pd\n",
    "import matplotlib.pyplot as plt\n",
    "import seaborn as sns\n",
    "\n",
    "import patsy\n",
    "import statsmodels.api as sm\n",
    "import scipy.stats as stats\n",
    "from scipy.stats import ttest_ind, chisquare, normaltest"
   ]
  },
  {
   "cell_type": "markdown",
   "metadata": {},
   "source": [
    "# Data Cleaning"
   ]
  },
  {
   "cell_type": "markdown",
   "metadata": {},
   "source": [
    "First we wanted to see if there were any correlations to begin with. "
   ]
  },
  {
   "cell_type": "code",
   "execution_count": 2,
   "metadata": {},
   "outputs": [
    {
     "data": {
      "text/plain": [
       "<matplotlib.axes._subplots.AxesSubplot at 0x7f141c9d6f98>"
      ]
     },
     "execution_count": 2,
     "metadata": {},
     "output_type": "execute_result"
    },
    {
     "data": {
      "image/png": "[encoded data removed]",
      "text/plain": [
       "<Figure size 432x288 with 2 Axes>"
      ]
     },
     "metadata": {
      "needs_background": "light"
     },
     "output_type": "display_data"
    }
   ],
   "source": [
    "## Corelation between all features of dataset \n",
    "\n",
    "## FEEL FREE TO ADD MULTIPLE CELLS PER SECTION\n",
    "df=pd.read_csv('AppleStore.csv')\n",
    "sns.heatmap(df.corr(),cmap=\"rainbow\")"
   ]
  },
  {
   "cell_type": "markdown",
   "metadata": {},
   "source": [
    "We removed id, size, version, and Vpp Device because the id isn't displayed on the app store, the size could vary based on user data after they've used the app, the version number doesn't indicate when it was last updated, and we assumed the average consumer didn't know about \"Vpp Device Based Licensing Enabled.\" Additionally, we removed an unnamed column that didn't seem to mean ranking, and we removed content rating because we didn't want to exclude apps based on age. \n",
    "\n",
    "We also removed number of language supported and the type of currency because all were in USD, and the primary language in the US is English. The number of devices supported didn't distinguish between Apple products such as iPhone, iPad, Apple Watch, and MacBooks so we removed that column. The column labeled \"ipadSc_urls.num\" which was supposed to represent the number of screenshots displayed was taken out because looking through the data, it stated that Paypal had 0 screenshots. When looking at the actual PayPal page on the App Store, it had screenshots, but for the iPhone version. We think that \"ipadSc_urls.num\" only counts number of screenshots displayed on the App Store on the iPad. \n",
    "\n",
    "We removed both rating and rating count for the current version because a current version could have been made very recently, and some of the users may not have updated to the latest application. We believe a better representation of an app's rating is its rating overall through all versions. \n",
    "\n",
    "We renamed the labels of the columns to better reflect what they represent and for us to understand more easily."
   ]
  },
  {
   "cell_type": "code",
   "execution_count": 3,
   "metadata": {
    "scrolled": true
   },
   "outputs": [
    {
     "data": {
      "text/html": [
       "<div>\n",
       "<style scoped>\n",
       "    .dataframe tbody tr th:only-of-type {\n",
       "        vertical-align: middle;\n",
       "    }\n",
       "\n",
       "    .dataframe tbody tr th {\n",
       "        vertical-align: top;\n",
       "    }\n",
       "\n",
       "    .dataframe thead th {\n",
       "        text-align: right;\n",
       "    }\n",
       "</style>\n",
       "<table border=\"1\" class=\"dataframe\">\n",
       "  <thead>\n",
       "    <tr style=\"text-align: right;\">\n",
       "      <th></th>\n",
       "      <th>app</th>\n",
       "      <th>price</th>\n",
       "      <th>total ratings</th>\n",
       "      <th>rating</th>\n",
       "      <th>cont_rating</th>\n",
       "      <th>categories</th>\n",
       "    </tr>\n",
       "  </thead>\n",
       "  <tbody>\n",
       "    <tr>\n",
       "      <th>0</th>\n",
       "      <td>PAC-MAN Premium</td>\n",
       "      <td>3.99</td>\n",
       "      <td>21292</td>\n",
       "      <td>4.0</td>\n",
       "      <td>4+</td>\n",
       "      <td>Games</td>\n",
       "    </tr>\n",
       "    <tr>\n",
       "      <th>1</th>\n",
       "      <td>Evernote - stay organized</td>\n",
       "      <td>0.00</td>\n",
       "      <td>161065</td>\n",
       "      <td>4.0</td>\n",
       "      <td>4+</td>\n",
       "      <td>Productivity</td>\n",
       "    </tr>\n",
       "    <tr>\n",
       "      <th>2</th>\n",
       "      <td>WeatherBug - Local Weather, Radar, Maps, Alerts</td>\n",
       "      <td>0.00</td>\n",
       "      <td>188583</td>\n",
       "      <td>3.5</td>\n",
       "      <td>4+</td>\n",
       "      <td>Weather</td>\n",
       "    </tr>\n",
       "    <tr>\n",
       "      <th>3</th>\n",
       "      <td>eBay: Best App to Buy, Sell, Save! Online Shop...</td>\n",
       "      <td>0.00</td>\n",
       "      <td>262241</td>\n",
       "      <td>4.0</td>\n",
       "      <td>12+</td>\n",
       "      <td>Shopping</td>\n",
       "    </tr>\n",
       "    <tr>\n",
       "      <th>4</th>\n",
       "      <td>Bible</td>\n",
       "      <td>0.00</td>\n",
       "      <td>985920</td>\n",
       "      <td>4.5</td>\n",
       "      <td>4+</td>\n",
       "      <td>Reference</td>\n",
       "    </tr>\n",
       "  </tbody>\n",
       "</table>\n",
       "</div>"
      ],
      "text/plain": [
       "                                                 app  price  total ratings  \\\n",
       "0                                    PAC-MAN Premium   3.99          21292   \n",
       "1                          Evernote - stay organized   0.00         161065   \n",
       "2    WeatherBug - Local Weather, Radar, Maps, Alerts   0.00         188583   \n",
       "3  eBay: Best App to Buy, Sell, Save! Online Shop...   0.00         262241   \n",
       "4                                              Bible   0.00         985920   \n",
       "\n",
       "   rating cont_rating    categories  \n",
       "0     4.0          4+         Games  \n",
       "1     4.0          4+  Productivity  \n",
       "2     3.5          4+       Weather  \n",
       "3     4.0         12+      Shopping  \n",
       "4     4.5          4+     Reference  "
      ]
     },
     "execution_count": 3,
     "metadata": {},
     "output_type": "execute_result"
    }
   ],
   "source": [
    "## Drop and remane columns\n",
    "## FEEL FREE TO ADD MULTIPLE CELLS PER SECTION\n",
    "\n",
    "\n",
    "df\n",
    "df = df.drop(columns= [\"id\",\"size_bytes\",\"ver\",\"vpp_lic\",\n",
    "                      \"sup_devices.num\",\"currency\",\n",
    "                     \"user_rating_ver\",\n",
    "                     \"lang.num\",\"rating_count_ver\",\n",
    "                    \"ipadSc_urls.num\"] )\n",
    "df\n",
    "df = df.loc[:, ~df.columns.str.contains('^Unnamed')]\n",
    "\n",
    "df.columns=['app','price','total ratings','rating','cont_rating','categories']\n",
    "\n",
    "df.dropna(inplace=True)\n",
    "\n",
    "df.head()\n"
   ]
  },
  {
   "cell_type": "markdown",
   "metadata": {},
   "source": [
    "After dropping the columns we didnt need, we checked to see if our remaining columns had any null data.\n",
    "We found that none of our rows had null data. "
   ]
  },
  {
   "cell_type": "code",
   "execution_count": 4,
   "metadata": {},
   "outputs": [
    {
     "name": "stdout",
     "output_type": "stream",
     "text": [
      "<class 'pandas.core.frame.DataFrame'>\n",
      "Int64Index: 7197 entries, 0 to 7196\n",
      "Data columns (total 6 columns):\n",
      "app              7197 non-null object\n",
      "price            7197 non-null float64\n",
      "total ratings    7197 non-null int64\n",
      "rating           7197 non-null float64\n",
      "cont_rating      7197 non-null object\n",
      "categories       7197 non-null object\n",
      "dtypes: float64(2), int64(1), object(3)\n",
      "memory usage: 393.6+ KB\n"
     ]
    }
   ],
   "source": [
    "# Check dataset for null data\n",
    "df.info()"
   ]
  },
  {
   "cell_type": "markdown",
   "metadata": {},
   "source": []
  },
  {
   "cell_type": "markdown",
   "metadata": {},
   "source": [
    "### Games vs. All other apps \n",
    "We see that the Games category is much bigger than the rest of the categories. So we decided to split up the Games into its own category separate from the other apps."
   ]
  },
  {
   "cell_type": "code",
   "execution_count": 5,
   "metadata": {},
   "outputs": [
    {
     "data": {
      "text/plain": [
       "Games                3862\n",
       "Entertainment         535\n",
       "Education             453\n",
       "Photo & Video         349\n",
       "Utilities             248\n",
       "Health & Fitness      180\n",
       "Productivity          178\n",
       "Social Networking     167\n",
       "Lifestyle             144\n",
       "Music                 138\n",
       "Shopping              122\n",
       "Sports                114\n",
       "Book                  112\n",
       "Finance               104\n",
       "Travel                 81\n",
       "News                   75\n",
       "Weather                72\n",
       "Reference              64\n",
       "Food & Drink           63\n",
       "Business               57\n",
       "Navigation             46\n",
       "Medical                23\n",
       "Catalogs               10\n",
       "Name: categories, dtype: int64"
      ]
     },
     "execution_count": 5,
     "metadata": {},
     "output_type": "execute_result"
    }
   ],
   "source": [
    "# Check value counts\n",
    "df['categories'].value_counts()"
   ]
  },
  {
   "cell_type": "code",
   "execution_count": 6,
   "metadata": {},
   "outputs": [
    {
     "data": {
      "image/png": "[encoded data removed]",
      "text/plain": [
       "<Figure size 432x288 with 1 Axes>"
      ]
     },
     "metadata": {},
     "output_type": "display_data"
    }
   ],
   "source": [
    "# Distributon of categories \n",
    "sns.set(style=\"darkgrid\")\n",
    "ax = sns.countplot(y=df['categories'])"
   ]
  },
  {
   "cell_type": "markdown",
   "metadata": {},
   "source": [
    "In this cell we created a data frame exclusively for games."
   ]
  },
  {
   "cell_type": "code",
   "execution_count": 7,
   "metadata": {},
   "outputs": [
    {
     "data": {
      "text/html": [
       "<div>\n",
       "<style scoped>\n",
       "    .dataframe tbody tr th:only-of-type {\n",
       "        vertical-align: middle;\n",
       "    }\n",
       "\n",
       "    .dataframe tbody tr th {\n",
       "        vertical-align: top;\n",
       "    }\n",
       "\n",
       "    .dataframe thead th {\n",
       "        text-align: right;\n",
       "    }\n",
       "</style>\n",
       "<table border=\"1\" class=\"dataframe\">\n",
       "  <thead>\n",
       "    <tr style=\"text-align: right;\">\n",
       "      <th></th>\n",
       "      <th>app</th>\n",
       "      <th>price</th>\n",
       "      <th>total ratings</th>\n",
       "      <th>rating</th>\n",
       "      <th>cont_rating</th>\n",
       "      <th>categories</th>\n",
       "    </tr>\n",
       "  </thead>\n",
       "  <tbody>\n",
       "    <tr>\n",
       "      <th>0</th>\n",
       "      <td>PAC-MAN Premium</td>\n",
       "      <td>3.99</td>\n",
       "      <td>21292</td>\n",
       "      <td>4.0</td>\n",
       "      <td>4+</td>\n",
       "      <td>Games</td>\n",
       "    </tr>\n",
       "    <tr>\n",
       "      <th>5</th>\n",
       "      <td>Shanghai Mahjong</td>\n",
       "      <td>0.99</td>\n",
       "      <td>8253</td>\n",
       "      <td>4.0</td>\n",
       "      <td>4+</td>\n",
       "      <td>Games</td>\n",
       "    </tr>\n",
       "    <tr>\n",
       "      <th>9</th>\n",
       "      <td>Ms. PAC-MAN</td>\n",
       "      <td>3.99</td>\n",
       "      <td>7885</td>\n",
       "      <td>4.0</td>\n",
       "      <td>4+</td>\n",
       "      <td>Games</td>\n",
       "    </tr>\n",
       "    <tr>\n",
       "      <th>10</th>\n",
       "      <td>Solitaire by MobilityWare</td>\n",
       "      <td>4.99</td>\n",
       "      <td>76720</td>\n",
       "      <td>4.5</td>\n",
       "      <td>4+</td>\n",
       "      <td>Games</td>\n",
       "    </tr>\n",
       "    <tr>\n",
       "      <th>11</th>\n",
       "      <td>SCRABBLE Premium</td>\n",
       "      <td>7.99</td>\n",
       "      <td>105776</td>\n",
       "      <td>3.5</td>\n",
       "      <td>4+</td>\n",
       "      <td>Games</td>\n",
       "    </tr>\n",
       "    <tr>\n",
       "      <th>...</th>\n",
       "      <td>...</td>\n",
       "      <td>...</td>\n",
       "      <td>...</td>\n",
       "      <td>...</td>\n",
       "      <td>...</td>\n",
       "      <td>...</td>\n",
       "    </tr>\n",
       "    <tr>\n",
       "      <th>7191</th>\n",
       "      <td>Plead the Fifth - The Game</td>\n",
       "      <td>2.99</td>\n",
       "      <td>11</td>\n",
       "      <td>4.0</td>\n",
       "      <td>17+</td>\n",
       "      <td>Games</td>\n",
       "    </tr>\n",
       "    <tr>\n",
       "      <th>7192</th>\n",
       "      <td>Kubik</td>\n",
       "      <td>0.00</td>\n",
       "      <td>142</td>\n",
       "      <td>4.5</td>\n",
       "      <td>4+</td>\n",
       "      <td>Games</td>\n",
       "    </tr>\n",
       "    <tr>\n",
       "      <th>7193</th>\n",
       "      <td>VR Roller-Coaster</td>\n",
       "      <td>0.00</td>\n",
       "      <td>30</td>\n",
       "      <td>4.5</td>\n",
       "      <td>4+</td>\n",
       "      <td>Games</td>\n",
       "    </tr>\n",
       "    <tr>\n",
       "      <th>7195</th>\n",
       "      <td>VR Roller Coaster World - Virtual Reality</td>\n",
       "      <td>0.00</td>\n",
       "      <td>85</td>\n",
       "      <td>4.5</td>\n",
       "      <td>12+</td>\n",
       "      <td>Games</td>\n",
       "    </tr>\n",
       "    <tr>\n",
       "      <th>7196</th>\n",
       "      <td>Escape the Sweet Shop Series</td>\n",
       "      <td>0.00</td>\n",
       "      <td>3</td>\n",
       "      <td>5.0</td>\n",
       "      <td>4+</td>\n",
       "      <td>Games</td>\n",
       "    </tr>\n",
       "  </tbody>\n",
       "</table>\n",
       "<p>3862 rows × 6 columns</p>\n",
       "</div>"
      ],
      "text/plain": [
       "                                            app  price  total ratings  rating  \\\n",
       "0                               PAC-MAN Premium   3.99          21292     4.0   \n",
       "5                              Shanghai Mahjong   0.99           8253     4.0   \n",
       "9                                   Ms. PAC-MAN   3.99           7885     4.0   \n",
       "10                    Solitaire by MobilityWare   4.99          76720     4.5   \n",
       "11                             SCRABBLE Premium   7.99         105776     3.5   \n",
       "...                                         ...    ...            ...     ...   \n",
       "7191                 Plead the Fifth - The Game   2.99             11     4.0   \n",
       "7192                                      Kubik   0.00            142     4.5   \n",
       "7193                          VR Roller-Coaster   0.00             30     4.5   \n",
       "7195  VR Roller Coaster World - Virtual Reality   0.00             85     4.5   \n",
       "7196               Escape the Sweet Shop Series   0.00              3     5.0   \n",
       "\n",
       "     cont_rating categories  \n",
       "0             4+      Games  \n",
       "5             4+      Games  \n",
       "9             4+      Games  \n",
       "10            4+      Games  \n",
       "11            4+      Games  \n",
       "...          ...        ...  \n",
       "7191         17+      Games  \n",
       "7192          4+      Games  \n",
       "7193          4+      Games  \n",
       "7195         12+      Games  \n",
       "7196          4+      Games  \n",
       "\n",
       "[3862 rows x 6 columns]"
      ]
     },
     "execution_count": 7,
     "metadata": {},
     "output_type": "execute_result"
    }
   ],
   "source": [
    "# Dataframes of just games, Separate games from other apps\n",
    "games=  df[df ['categories'] == 'Games']\n",
    "games"
   ]
  },
  {
   "cell_type": "markdown",
   "metadata": {},
   "source": [
    "In this cell we created a data frame specifically for apps(everything aside from games)"
   ]
  },
  {
   "cell_type": "code",
   "execution_count": 8,
   "metadata": {},
   "outputs": [
    {
     "data": {
      "text/html": [
       "<div>\n",
       "<style scoped>\n",
       "    .dataframe tbody tr th:only-of-type {\n",
       "        vertical-align: middle;\n",
       "    }\n",
       "\n",
       "    .dataframe tbody tr th {\n",
       "        vertical-align: top;\n",
       "    }\n",
       "\n",
       "    .dataframe thead th {\n",
       "        text-align: right;\n",
       "    }\n",
       "</style>\n",
       "<table border=\"1\" class=\"dataframe\">\n",
       "  <thead>\n",
       "    <tr style=\"text-align: right;\">\n",
       "      <th></th>\n",
       "      <th>app</th>\n",
       "      <th>price</th>\n",
       "      <th>total ratings</th>\n",
       "      <th>rating</th>\n",
       "      <th>cont_rating</th>\n",
       "      <th>categories</th>\n",
       "    </tr>\n",
       "  </thead>\n",
       "  <tbody>\n",
       "    <tr>\n",
       "      <th>1</th>\n",
       "      <td>Evernote - stay organized</td>\n",
       "      <td>0.00</td>\n",
       "      <td>161065</td>\n",
       "      <td>4.0</td>\n",
       "      <td>4+</td>\n",
       "      <td>Productivity</td>\n",
       "    </tr>\n",
       "    <tr>\n",
       "      <th>2</th>\n",
       "      <td>WeatherBug - Local Weather, Radar, Maps, Alerts</td>\n",
       "      <td>0.00</td>\n",
       "      <td>188583</td>\n",
       "      <td>3.5</td>\n",
       "      <td>4+</td>\n",
       "      <td>Weather</td>\n",
       "    </tr>\n",
       "    <tr>\n",
       "      <th>3</th>\n",
       "      <td>eBay: Best App to Buy, Sell, Save! Online Shop...</td>\n",
       "      <td>0.00</td>\n",
       "      <td>262241</td>\n",
       "      <td>4.0</td>\n",
       "      <td>12+</td>\n",
       "      <td>Shopping</td>\n",
       "    </tr>\n",
       "    <tr>\n",
       "      <th>4</th>\n",
       "      <td>Bible</td>\n",
       "      <td>0.00</td>\n",
       "      <td>985920</td>\n",
       "      <td>4.5</td>\n",
       "      <td>4+</td>\n",
       "      <td>Reference</td>\n",
       "    </tr>\n",
       "    <tr>\n",
       "      <th>6</th>\n",
       "      <td>PayPal - Send and request money safely</td>\n",
       "      <td>0.00</td>\n",
       "      <td>119487</td>\n",
       "      <td>4.0</td>\n",
       "      <td>4+</td>\n",
       "      <td>Finance</td>\n",
       "    </tr>\n",
       "    <tr>\n",
       "      <th>...</th>\n",
       "      <td>...</td>\n",
       "      <td>...</td>\n",
       "      <td>...</td>\n",
       "      <td>...</td>\n",
       "      <td>...</td>\n",
       "      <td>...</td>\n",
       "    </tr>\n",
       "    <tr>\n",
       "      <th>7173</th>\n",
       "      <td>My Diary - 你的名字非官方</td>\n",
       "      <td>0.99</td>\n",
       "      <td>0</td>\n",
       "      <td>0.0</td>\n",
       "      <td>4+</td>\n",
       "      <td>Utilities</td>\n",
       "    </tr>\n",
       "    <tr>\n",
       "      <th>7179</th>\n",
       "      <td>Fam — Group video calling for iMessage</td>\n",
       "      <td>0.00</td>\n",
       "      <td>279</td>\n",
       "      <td>3.5</td>\n",
       "      <td>4+</td>\n",
       "      <td>Social Networking</td>\n",
       "    </tr>\n",
       "    <tr>\n",
       "      <th>7180</th>\n",
       "      <td>Laurie Hernandez the Human Emoji</td>\n",
       "      <td>0.00</td>\n",
       "      <td>26</td>\n",
       "      <td>5.0</td>\n",
       "      <td>9+</td>\n",
       "      <td>Utilities</td>\n",
       "    </tr>\n",
       "    <tr>\n",
       "      <th>7182</th>\n",
       "      <td>camera for filter</td>\n",
       "      <td>0.00</td>\n",
       "      <td>0</td>\n",
       "      <td>0.0</td>\n",
       "      <td>4+</td>\n",
       "      <td>Photo &amp; Video</td>\n",
       "    </tr>\n",
       "    <tr>\n",
       "      <th>7194</th>\n",
       "      <td>Bret Michaels Emojis + Lyric Keyboard</td>\n",
       "      <td>1.99</td>\n",
       "      <td>15</td>\n",
       "      <td>4.5</td>\n",
       "      <td>9+</td>\n",
       "      <td>Utilities</td>\n",
       "    </tr>\n",
       "  </tbody>\n",
       "</table>\n",
       "<p>3335 rows × 6 columns</p>\n",
       "</div>"
      ],
      "text/plain": [
       "                                                    app  price  total ratings  \\\n",
       "1                             Evernote - stay organized   0.00         161065   \n",
       "2       WeatherBug - Local Weather, Radar, Maps, Alerts   0.00         188583   \n",
       "3     eBay: Best App to Buy, Sell, Save! Online Shop...   0.00         262241   \n",
       "4                                                 Bible   0.00         985920   \n",
       "6                PayPal - Send and request money safely   0.00         119487   \n",
       "...                                                 ...    ...            ...   \n",
       "7173                                 My Diary - 你的名字非官方   0.99              0   \n",
       "7179             Fam — Group video calling for iMessage   0.00            279   \n",
       "7180                   Laurie Hernandez the Human Emoji   0.00             26   \n",
       "7182                                  camera for filter   0.00              0   \n",
       "7194              Bret Michaels Emojis + Lyric Keyboard   1.99             15   \n",
       "\n",
       "      rating cont_rating         categories  \n",
       "1        4.0          4+       Productivity  \n",
       "2        3.5          4+            Weather  \n",
       "3        4.0         12+           Shopping  \n",
       "4        4.5          4+          Reference  \n",
       "6        4.0          4+            Finance  \n",
       "...      ...         ...                ...  \n",
       "7173     0.0          4+          Utilities  \n",
       "7179     3.5          4+  Social Networking  \n",
       "7180     5.0          9+          Utilities  \n",
       "7182     0.0          4+      Photo & Video  \n",
       "7194     4.5          9+          Utilities  \n",
       "\n",
       "[3335 rows x 6 columns]"
      ]
     },
     "execution_count": 8,
     "metadata": {},
     "output_type": "execute_result"
    }
   ],
   "source": [
    "# Data frame of Apps\n",
    "apps = df[df['categories'] != 'Games']\n",
    "apps"
   ]
  },
  {
   "cell_type": "markdown",
   "metadata": {},
   "source": [
    "### Paid vs Unpaid Subcategories for Games and Apps\n",
    "We also decided to divide games and apps into subcategores of paid and unpaid to see if price had any factor in their ratings. "
   ]
  },
  {
   "cell_type": "code",
   "execution_count": 9,
   "metadata": {},
   "outputs": [],
   "source": [
    "# Separate games into paid and unpaid\n",
    "g_paid = games[games['price'] != 0 ]\n",
    "g_unpaid = games[games['price'] == 0]\n",
    "\n",
    "#check values\n",
    "#g_paid\n",
    "#g_unpaid\n",
    "\n",
    "\n"
   ]
  },
  {
   "cell_type": "code",
   "execution_count": 10,
   "metadata": {},
   "outputs": [
    {
     "data": {
      "text/html": [
       "<div>\n",
       "<style scoped>\n",
       "    .dataframe tbody tr th:only-of-type {\n",
       "        vertical-align: middle;\n",
       "    }\n",
       "\n",
       "    .dataframe tbody tr th {\n",
       "        vertical-align: top;\n",
       "    }\n",
       "\n",
       "    .dataframe thead th {\n",
       "        text-align: right;\n",
       "    }\n",
       "</style>\n",
       "<table border=\"1\" class=\"dataframe\">\n",
       "  <thead>\n",
       "    <tr style=\"text-align: right;\">\n",
       "      <th></th>\n",
       "      <th>app</th>\n",
       "      <th>price</th>\n",
       "      <th>total ratings</th>\n",
       "      <th>rating</th>\n",
       "      <th>cont_rating</th>\n",
       "      <th>categories</th>\n",
       "    </tr>\n",
       "  </thead>\n",
       "  <tbody>\n",
       "    <tr>\n",
       "      <th>0</th>\n",
       "      <td>PAC-MAN Premium</td>\n",
       "      <td>3.99</td>\n",
       "      <td>21292</td>\n",
       "      <td>4.0</td>\n",
       "      <td>4+</td>\n",
       "      <td>Games</td>\n",
       "    </tr>\n",
       "    <tr>\n",
       "      <th>5</th>\n",
       "      <td>Shanghai Mahjong</td>\n",
       "      <td>0.99</td>\n",
       "      <td>8253</td>\n",
       "      <td>4.0</td>\n",
       "      <td>4+</td>\n",
       "      <td>Games</td>\n",
       "    </tr>\n",
       "    <tr>\n",
       "      <th>9</th>\n",
       "      <td>Ms. PAC-MAN</td>\n",
       "      <td>3.99</td>\n",
       "      <td>7885</td>\n",
       "      <td>4.0</td>\n",
       "      <td>4+</td>\n",
       "      <td>Games</td>\n",
       "    </tr>\n",
       "    <tr>\n",
       "      <th>10</th>\n",
       "      <td>Solitaire by MobilityWare</td>\n",
       "      <td>4.99</td>\n",
       "      <td>76720</td>\n",
       "      <td>4.5</td>\n",
       "      <td>4+</td>\n",
       "      <td>Games</td>\n",
       "    </tr>\n",
       "    <tr>\n",
       "      <th>11</th>\n",
       "      <td>SCRABBLE Premium</td>\n",
       "      <td>7.99</td>\n",
       "      <td>105776</td>\n",
       "      <td>3.5</td>\n",
       "      <td>4+</td>\n",
       "      <td>Games</td>\n",
       "    </tr>\n",
       "    <tr>\n",
       "      <th>...</th>\n",
       "      <td>...</td>\n",
       "      <td>...</td>\n",
       "      <td>...</td>\n",
       "      <td>...</td>\n",
       "      <td>...</td>\n",
       "      <td>...</td>\n",
       "    </tr>\n",
       "    <tr>\n",
       "      <th>7183</th>\n",
       "      <td>Survivalcraft 2</td>\n",
       "      <td>3.99</td>\n",
       "      <td>292</td>\n",
       "      <td>4.0</td>\n",
       "      <td>9+</td>\n",
       "      <td>Games</td>\n",
       "    </tr>\n",
       "    <tr>\n",
       "      <th>7185</th>\n",
       "      <td>问仙奇遇-新玩法新套装嗨到爆</td>\n",
       "      <td>0.99</td>\n",
       "      <td>0</td>\n",
       "      <td>0.0</td>\n",
       "      <td>9+</td>\n",
       "      <td>Games</td>\n",
       "    </tr>\n",
       "    <tr>\n",
       "      <th>7189</th>\n",
       "      <td>飞刀传奇-动作武侠热血江湖即时PK传奇（登录爆金装）</td>\n",
       "      <td>0.99</td>\n",
       "      <td>0</td>\n",
       "      <td>0.0</td>\n",
       "      <td>9+</td>\n",
       "      <td>Games</td>\n",
       "    </tr>\n",
       "    <tr>\n",
       "      <th>7190</th>\n",
       "      <td>Add-Ons Studio for Minecraft</td>\n",
       "      <td>2.99</td>\n",
       "      <td>97</td>\n",
       "      <td>3.0</td>\n",
       "      <td>4+</td>\n",
       "      <td>Games</td>\n",
       "    </tr>\n",
       "    <tr>\n",
       "      <th>7191</th>\n",
       "      <td>Plead the Fifth - The Game</td>\n",
       "      <td>2.99</td>\n",
       "      <td>11</td>\n",
       "      <td>4.0</td>\n",
       "      <td>17+</td>\n",
       "      <td>Games</td>\n",
       "    </tr>\n",
       "  </tbody>\n",
       "</table>\n",
       "<p>1605 rows × 6 columns</p>\n",
       "</div>"
      ],
      "text/plain": [
       "                               app  price  total ratings  rating cont_rating  \\\n",
       "0                  PAC-MAN Premium   3.99          21292     4.0          4+   \n",
       "5                 Shanghai Mahjong   0.99           8253     4.0          4+   \n",
       "9                      Ms. PAC-MAN   3.99           7885     4.0          4+   \n",
       "10       Solitaire by MobilityWare   4.99          76720     4.5          4+   \n",
       "11                SCRABBLE Premium   7.99         105776     3.5          4+   \n",
       "...                            ...    ...            ...     ...         ...   \n",
       "7183               Survivalcraft 2   3.99            292     4.0          9+   \n",
       "7185                问仙奇遇-新玩法新套装嗨到爆   0.99              0     0.0          9+   \n",
       "7189    飞刀传奇-动作武侠热血江湖即时PK传奇（登录爆金装）   0.99              0     0.0          9+   \n",
       "7190  Add-Ons Studio for Minecraft   2.99             97     3.0          4+   \n",
       "7191    Plead the Fifth - The Game   2.99             11     4.0         17+   \n",
       "\n",
       "     categories  \n",
       "0         Games  \n",
       "5         Games  \n",
       "9         Games  \n",
       "10        Games  \n",
       "11        Games  \n",
       "...         ...  \n",
       "7183      Games  \n",
       "7185      Games  \n",
       "7189      Games  \n",
       "7190      Games  \n",
       "7191      Games  \n",
       "\n",
       "[1605 rows x 6 columns]"
      ]
     },
     "execution_count": 10,
     "metadata": {},
     "output_type": "execute_result"
    }
   ],
   "source": [
    "# Paid Games \n",
    "g_paid "
   ]
  },
  {
   "cell_type": "code",
   "execution_count": 11,
   "metadata": {},
   "outputs": [
    {
     "data": {
      "text/html": [
       "<div>\n",
       "<style scoped>\n",
       "    .dataframe tbody tr th:only-of-type {\n",
       "        vertical-align: middle;\n",
       "    }\n",
       "\n",
       "    .dataframe tbody tr th {\n",
       "        vertical-align: top;\n",
       "    }\n",
       "\n",
       "    .dataframe thead th {\n",
       "        text-align: right;\n",
       "    }\n",
       "</style>\n",
       "<table border=\"1\" class=\"dataframe\">\n",
       "  <thead>\n",
       "    <tr style=\"text-align: right;\">\n",
       "      <th></th>\n",
       "      <th>app</th>\n",
       "      <th>price</th>\n",
       "      <th>total ratings</th>\n",
       "      <th>rating</th>\n",
       "      <th>cont_rating</th>\n",
       "      <th>categories</th>\n",
       "    </tr>\n",
       "  </thead>\n",
       "  <tbody>\n",
       "    <tr>\n",
       "      <th>26</th>\n",
       "      <td>Hangman.</td>\n",
       "      <td>0.0</td>\n",
       "      <td>42316</td>\n",
       "      <td>3.0</td>\n",
       "      <td>9+</td>\n",
       "      <td>Games</td>\n",
       "    </tr>\n",
       "    <tr>\n",
       "      <th>33</th>\n",
       "      <td>Blackjack by MobilityWare</td>\n",
       "      <td>0.0</td>\n",
       "      <td>180087</td>\n",
       "      <td>3.5</td>\n",
       "      <td>12+</td>\n",
       "      <td>Games</td>\n",
       "    </tr>\n",
       "    <tr>\n",
       "      <th>47</th>\n",
       "      <td>PAC-MAN</td>\n",
       "      <td>0.0</td>\n",
       "      <td>508808</td>\n",
       "      <td>3.0</td>\n",
       "      <td>4+</td>\n",
       "      <td>Games</td>\n",
       "    </tr>\n",
       "    <tr>\n",
       "      <th>86</th>\n",
       "      <td>Beer Pong Game</td>\n",
       "      <td>0.0</td>\n",
       "      <td>187315</td>\n",
       "      <td>2.0</td>\n",
       "      <td>17+</td>\n",
       "      <td>Games</td>\n",
       "    </tr>\n",
       "    <tr>\n",
       "      <th>108</th>\n",
       "      <td>NYTimes Crossword - Daily Word Puzzle Game</td>\n",
       "      <td>0.0</td>\n",
       "      <td>53465</td>\n",
       "      <td>3.5</td>\n",
       "      <td>4+</td>\n",
       "      <td>Games</td>\n",
       "    </tr>\n",
       "    <tr>\n",
       "      <th>...</th>\n",
       "      <td>...</td>\n",
       "      <td>...</td>\n",
       "      <td>...</td>\n",
       "      <td>...</td>\n",
       "      <td>...</td>\n",
       "      <td>...</td>\n",
       "    </tr>\n",
       "    <tr>\n",
       "      <th>7188</th>\n",
       "      <td>Demolition Derby Virtual Reality (VR) Racing</td>\n",
       "      <td>0.0</td>\n",
       "      <td>18</td>\n",
       "      <td>4.0</td>\n",
       "      <td>12+</td>\n",
       "      <td>Games</td>\n",
       "    </tr>\n",
       "    <tr>\n",
       "      <th>7192</th>\n",
       "      <td>Kubik</td>\n",
       "      <td>0.0</td>\n",
       "      <td>142</td>\n",
       "      <td>4.5</td>\n",
       "      <td>4+</td>\n",
       "      <td>Games</td>\n",
       "    </tr>\n",
       "    <tr>\n",
       "      <th>7193</th>\n",
       "      <td>VR Roller-Coaster</td>\n",
       "      <td>0.0</td>\n",
       "      <td>30</td>\n",
       "      <td>4.5</td>\n",
       "      <td>4+</td>\n",
       "      <td>Games</td>\n",
       "    </tr>\n",
       "    <tr>\n",
       "      <th>7195</th>\n",
       "      <td>VR Roller Coaster World - Virtual Reality</td>\n",
       "      <td>0.0</td>\n",
       "      <td>85</td>\n",
       "      <td>4.5</td>\n",
       "      <td>12+</td>\n",
       "      <td>Games</td>\n",
       "    </tr>\n",
       "    <tr>\n",
       "      <th>7196</th>\n",
       "      <td>Escape the Sweet Shop Series</td>\n",
       "      <td>0.0</td>\n",
       "      <td>3</td>\n",
       "      <td>5.0</td>\n",
       "      <td>4+</td>\n",
       "      <td>Games</td>\n",
       "    </tr>\n",
       "  </tbody>\n",
       "</table>\n",
       "<p>2257 rows × 6 columns</p>\n",
       "</div>"
      ],
      "text/plain": [
       "                                               app  price  total ratings  \\\n",
       "26                                        Hangman.    0.0          42316   \n",
       "33                       Blackjack by MobilityWare    0.0         180087   \n",
       "47                                         PAC-MAN    0.0         508808   \n",
       "86                                  Beer Pong Game    0.0         187315   \n",
       "108     NYTimes Crossword - Daily Word Puzzle Game    0.0          53465   \n",
       "...                                            ...    ...            ...   \n",
       "7188  Demolition Derby Virtual Reality (VR) Racing    0.0             18   \n",
       "7192                                         Kubik    0.0            142   \n",
       "7193                             VR Roller-Coaster    0.0             30   \n",
       "7195     VR Roller Coaster World - Virtual Reality    0.0             85   \n",
       "7196                  Escape the Sweet Shop Series    0.0              3   \n",
       "\n",
       "      rating cont_rating categories  \n",
       "26       3.0          9+      Games  \n",
       "33       3.5         12+      Games  \n",
       "47       3.0          4+      Games  \n",
       "86       2.0         17+      Games  \n",
       "108      3.5          4+      Games  \n",
       "...      ...         ...        ...  \n",
       "7188     4.0         12+      Games  \n",
       "7192     4.5          4+      Games  \n",
       "7193     4.5          4+      Games  \n",
       "7195     4.5         12+      Games  \n",
       "7196     5.0          4+      Games  \n",
       "\n",
       "[2257 rows x 6 columns]"
      ]
     },
     "execution_count": 11,
     "metadata": {},
     "output_type": "execute_result"
    }
   ],
   "source": [
    "# Free games\n",
    "g_unpaid"
   ]
  },
  {
   "cell_type": "markdown",
   "metadata": {},
   "source": [
    "Separate data frames for free and paid apps"
   ]
  },
  {
   "cell_type": "code",
   "execution_count": 12,
   "metadata": {},
   "outputs": [],
   "source": [
    "# seperate apps into paid and unpaid\n",
    "\n",
    "a_paid = apps[apps['price'] != 0]\n",
    "a_unpaid = apps[apps['price'] == 0]\n",
    "\n",
    "# print dfs\n",
    "#a_paid\n",
    "#a_unpaid\n"
   ]
  },
  {
   "cell_type": "code",
   "execution_count": 13,
   "metadata": {},
   "outputs": [
    {
     "data": {
      "text/html": [
       "<div>\n",
       "<style scoped>\n",
       "    .dataframe tbody tr th:only-of-type {\n",
       "        vertical-align: middle;\n",
       "    }\n",
       "\n",
       "    .dataframe tbody tr th {\n",
       "        vertical-align: top;\n",
       "    }\n",
       "\n",
       "    .dataframe thead th {\n",
       "        text-align: right;\n",
       "    }\n",
       "</style>\n",
       "<table border=\"1\" class=\"dataframe\">\n",
       "  <thead>\n",
       "    <tr style=\"text-align: right;\">\n",
       "      <th></th>\n",
       "      <th>app</th>\n",
       "      <th>price</th>\n",
       "      <th>total ratings</th>\n",
       "      <th>rating</th>\n",
       "      <th>cont_rating</th>\n",
       "      <th>categories</th>\n",
       "    </tr>\n",
       "  </thead>\n",
       "  <tbody>\n",
       "    <tr>\n",
       "      <th>8</th>\n",
       "      <td>PCalc - The Best Calculator</td>\n",
       "      <td>9.99</td>\n",
       "      <td>1117</td>\n",
       "      <td>4.5</td>\n",
       "      <td>4+</td>\n",
       "      <td>Utilities</td>\n",
       "    </tr>\n",
       "    <tr>\n",
       "      <th>20</th>\n",
       "      <td>iQuran</td>\n",
       "      <td>1.99</td>\n",
       "      <td>2929</td>\n",
       "      <td>4.5</td>\n",
       "      <td>4+</td>\n",
       "      <td>Reference</td>\n",
       "    </tr>\n",
       "    <tr>\n",
       "      <th>23</th>\n",
       "      <td>Mileage Log | Fahrtenbuch</td>\n",
       "      <td>5.99</td>\n",
       "      <td>8</td>\n",
       "      <td>4.5</td>\n",
       "      <td>4+</td>\n",
       "      <td>Business</td>\n",
       "    </tr>\n",
       "    <tr>\n",
       "      <th>24</th>\n",
       "      <td>Cleartune - Chromatic Tuner</td>\n",
       "      <td>3.99</td>\n",
       "      <td>3241</td>\n",
       "      <td>4.0</td>\n",
       "      <td>4+</td>\n",
       "      <td>Music</td>\n",
       "    </tr>\n",
       "    <tr>\n",
       "      <th>28</th>\n",
       "      <td>TouchOSC</td>\n",
       "      <td>4.99</td>\n",
       "      <td>782</td>\n",
       "      <td>4.0</td>\n",
       "      <td>4+</td>\n",
       "      <td>Music</td>\n",
       "    </tr>\n",
       "    <tr>\n",
       "      <th>...</th>\n",
       "      <td>...</td>\n",
       "      <td>...</td>\n",
       "      <td>...</td>\n",
       "      <td>...</td>\n",
       "      <td>...</td>\n",
       "      <td>...</td>\n",
       "    </tr>\n",
       "    <tr>\n",
       "      <th>7159</th>\n",
       "      <td>EMOJIZI BOOBA</td>\n",
       "      <td>1.99</td>\n",
       "      <td>1</td>\n",
       "      <td>4.0</td>\n",
       "      <td>17+</td>\n",
       "      <td>Utilities</td>\n",
       "    </tr>\n",
       "    <tr>\n",
       "      <th>7160</th>\n",
       "      <td>Addon Creator Studio for Minecraft PE</td>\n",
       "      <td>1.99</td>\n",
       "      <td>214</td>\n",
       "      <td>4.0</td>\n",
       "      <td>12+</td>\n",
       "      <td>Entertainment</td>\n",
       "    </tr>\n",
       "    <tr>\n",
       "      <th>7169</th>\n",
       "      <td>Talking Santa - Video santa claus calls you</td>\n",
       "      <td>2.99</td>\n",
       "      <td>9</td>\n",
       "      <td>3.0</td>\n",
       "      <td>4+</td>\n",
       "      <td>Entertainment</td>\n",
       "    </tr>\n",
       "    <tr>\n",
       "      <th>7173</th>\n",
       "      <td>My Diary - 你的名字非官方</td>\n",
       "      <td>0.99</td>\n",
       "      <td>0</td>\n",
       "      <td>0.0</td>\n",
       "      <td>4+</td>\n",
       "      <td>Utilities</td>\n",
       "    </tr>\n",
       "    <tr>\n",
       "      <th>7194</th>\n",
       "      <td>Bret Michaels Emojis + Lyric Keyboard</td>\n",
       "      <td>1.99</td>\n",
       "      <td>15</td>\n",
       "      <td>4.5</td>\n",
       "      <td>9+</td>\n",
       "      <td>Utilities</td>\n",
       "    </tr>\n",
       "  </tbody>\n",
       "</table>\n",
       "<p>1536 rows × 6 columns</p>\n",
       "</div>"
      ],
      "text/plain": [
       "                                              app  price  total ratings  \\\n",
       "8                     PCalc - The Best Calculator   9.99           1117   \n",
       "20                                         iQuran   1.99           2929   \n",
       "23                      Mileage Log | Fahrtenbuch   5.99              8   \n",
       "24                    Cleartune - Chromatic Tuner   3.99           3241   \n",
       "28                                       TouchOSC   4.99            782   \n",
       "...                                           ...    ...            ...   \n",
       "7159                                EMOJIZI BOOBA   1.99              1   \n",
       "7160        Addon Creator Studio for Minecraft PE   1.99            214   \n",
       "7169  Talking Santa - Video santa claus calls you   2.99              9   \n",
       "7173                           My Diary - 你的名字非官方   0.99              0   \n",
       "7194        Bret Michaels Emojis + Lyric Keyboard   1.99             15   \n",
       "\n",
       "      rating cont_rating     categories  \n",
       "8        4.5          4+      Utilities  \n",
       "20       4.5          4+      Reference  \n",
       "23       4.5          4+       Business  \n",
       "24       4.0          4+          Music  \n",
       "28       4.0          4+          Music  \n",
       "...      ...         ...            ...  \n",
       "7159     4.0         17+      Utilities  \n",
       "7160     4.0         12+  Entertainment  \n",
       "7169     3.0          4+  Entertainment  \n",
       "7173     0.0          4+      Utilities  \n",
       "7194     4.5          9+      Utilities  \n",
       "\n",
       "[1536 rows x 6 columns]"
      ]
     },
     "execution_count": 13,
     "metadata": {},
     "output_type": "execute_result"
    }
   ],
   "source": [
    "#Paid apps\n",
    "a_paid "
   ]
  },
  {
   "cell_type": "markdown",
   "metadata": {},
   "source": []
  },
  {
   "cell_type": "code",
   "execution_count": 14,
   "metadata": {},
   "outputs": [
    {
     "data": {
      "text/html": [
       "<div>\n",
       "<style scoped>\n",
       "    .dataframe tbody tr th:only-of-type {\n",
       "        vertical-align: middle;\n",
       "    }\n",
       "\n",
       "    .dataframe tbody tr th {\n",
       "        vertical-align: top;\n",
       "    }\n",
       "\n",
       "    .dataframe thead th {\n",
       "        text-align: right;\n",
       "    }\n",
       "</style>\n",
       "<table border=\"1\" class=\"dataframe\">\n",
       "  <thead>\n",
       "    <tr style=\"text-align: right;\">\n",
       "      <th></th>\n",
       "      <th>app</th>\n",
       "      <th>price</th>\n",
       "      <th>total ratings</th>\n",
       "      <th>rating</th>\n",
       "      <th>cont_rating</th>\n",
       "      <th>categories</th>\n",
       "    </tr>\n",
       "  </thead>\n",
       "  <tbody>\n",
       "    <tr>\n",
       "      <th>1</th>\n",
       "      <td>Evernote - stay organized</td>\n",
       "      <td>0.0</td>\n",
       "      <td>161065</td>\n",
       "      <td>4.0</td>\n",
       "      <td>4+</td>\n",
       "      <td>Productivity</td>\n",
       "    </tr>\n",
       "    <tr>\n",
       "      <th>2</th>\n",
       "      <td>WeatherBug - Local Weather, Radar, Maps, Alerts</td>\n",
       "      <td>0.0</td>\n",
       "      <td>188583</td>\n",
       "      <td>3.5</td>\n",
       "      <td>4+</td>\n",
       "      <td>Weather</td>\n",
       "    </tr>\n",
       "    <tr>\n",
       "      <th>3</th>\n",
       "      <td>eBay: Best App to Buy, Sell, Save! Online Shop...</td>\n",
       "      <td>0.0</td>\n",
       "      <td>262241</td>\n",
       "      <td>4.0</td>\n",
       "      <td>12+</td>\n",
       "      <td>Shopping</td>\n",
       "    </tr>\n",
       "    <tr>\n",
       "      <th>4</th>\n",
       "      <td>Bible</td>\n",
       "      <td>0.0</td>\n",
       "      <td>985920</td>\n",
       "      <td>4.5</td>\n",
       "      <td>4+</td>\n",
       "      <td>Reference</td>\n",
       "    </tr>\n",
       "    <tr>\n",
       "      <th>6</th>\n",
       "      <td>PayPal - Send and request money safely</td>\n",
       "      <td>0.0</td>\n",
       "      <td>119487</td>\n",
       "      <td>4.0</td>\n",
       "      <td>4+</td>\n",
       "      <td>Finance</td>\n",
       "    </tr>\n",
       "    <tr>\n",
       "      <th>...</th>\n",
       "      <td>...</td>\n",
       "      <td>...</td>\n",
       "      <td>...</td>\n",
       "      <td>...</td>\n",
       "      <td>...</td>\n",
       "      <td>...</td>\n",
       "    </tr>\n",
       "    <tr>\n",
       "      <th>7163</th>\n",
       "      <td>NORAD Tracks Santa Claus</td>\n",
       "      <td>0.0</td>\n",
       "      <td>70</td>\n",
       "      <td>2.5</td>\n",
       "      <td>4+</td>\n",
       "      <td>Entertainment</td>\n",
       "    </tr>\n",
       "    <tr>\n",
       "      <th>7170</th>\n",
       "      <td>CTFxCmoji</td>\n",
       "      <td>0.0</td>\n",
       "      <td>39</td>\n",
       "      <td>5.0</td>\n",
       "      <td>9+</td>\n",
       "      <td>Social Networking</td>\n",
       "    </tr>\n",
       "    <tr>\n",
       "      <th>7179</th>\n",
       "      <td>Fam — Group video calling for iMessage</td>\n",
       "      <td>0.0</td>\n",
       "      <td>279</td>\n",
       "      <td>3.5</td>\n",
       "      <td>4+</td>\n",
       "      <td>Social Networking</td>\n",
       "    </tr>\n",
       "    <tr>\n",
       "      <th>7180</th>\n",
       "      <td>Laurie Hernandez the Human Emoji</td>\n",
       "      <td>0.0</td>\n",
       "      <td>26</td>\n",
       "      <td>5.0</td>\n",
       "      <td>9+</td>\n",
       "      <td>Utilities</td>\n",
       "    </tr>\n",
       "    <tr>\n",
       "      <th>7182</th>\n",
       "      <td>camera for filter</td>\n",
       "      <td>0.0</td>\n",
       "      <td>0</td>\n",
       "      <td>0.0</td>\n",
       "      <td>4+</td>\n",
       "      <td>Photo &amp; Video</td>\n",
       "    </tr>\n",
       "  </tbody>\n",
       "</table>\n",
       "<p>1799 rows × 6 columns</p>\n",
       "</div>"
      ],
      "text/plain": [
       "                                                    app  price  total ratings  \\\n",
       "1                             Evernote - stay organized    0.0         161065   \n",
       "2       WeatherBug - Local Weather, Radar, Maps, Alerts    0.0         188583   \n",
       "3     eBay: Best App to Buy, Sell, Save! Online Shop...    0.0         262241   \n",
       "4                                                 Bible    0.0         985920   \n",
       "6                PayPal - Send and request money safely    0.0         119487   \n",
       "...                                                 ...    ...            ...   \n",
       "7163                           NORAD Tracks Santa Claus    0.0             70   \n",
       "7170                                          CTFxCmoji    0.0             39   \n",
       "7179             Fam — Group video calling for iMessage    0.0            279   \n",
       "7180                   Laurie Hernandez the Human Emoji    0.0             26   \n",
       "7182                                  camera for filter    0.0              0   \n",
       "\n",
       "      rating cont_rating         categories  \n",
       "1        4.0          4+       Productivity  \n",
       "2        3.5          4+            Weather  \n",
       "3        4.0         12+           Shopping  \n",
       "4        4.5          4+          Reference  \n",
       "6        4.0          4+            Finance  \n",
       "...      ...         ...                ...  \n",
       "7163     2.5          4+      Entertainment  \n",
       "7170     5.0          9+  Social Networking  \n",
       "7179     3.5          4+  Social Networking  \n",
       "7180     5.0          9+          Utilities  \n",
       "7182     0.0          4+      Photo & Video  \n",
       "\n",
       "[1799 rows x 6 columns]"
      ]
     },
     "execution_count": 14,
     "metadata": {},
     "output_type": "execute_result"
    }
   ],
   "source": [
    "#Free apps\n",
    "a_unpaid"
   ]
  },
  {
   "cell_type": "markdown",
   "metadata": {},
   "source": [
    "#  Data Analysis & Results"
   ]
  },
  {
   "cell_type": "markdown",
   "metadata": {},
   "source": [
    "### Rating vs Total Ratings for Paid and Unpaid Games "
   ]
  },
  {
   "cell_type": "markdown",
   "metadata": {},
   "source": [
    "We looked at the rating scale and total number of ratings for paid and unpaid games. "
   ]
  },
  {
   "cell_type": "code",
   "execution_count": 15,
   "metadata": {},
   "outputs": [
    {
     "name": "stderr",
     "output_type": "stream",
     "text": [
      "'c' argument looks like a single numeric RGB or RGBA sequence, which should be avoided as value-mapping will have precedence in case its length matches with 'x' & 'y'.  Please use a 2-D array with a single row if you really want to specify the same RGB or RGBA value for all points.\n"
     ]
    },
    {
     "data": {
      "image/png": "[encoded data removed]",
      "text/plain": [
       "<Figure size 432x288 with 1 Axes>"
      ]
     },
     "metadata": {},
     "output_type": "display_data"
    }
   ],
   "source": [
    "#paid games\n",
    "# rating vs total ratings\n",
    "colors = (0,0,0)\n",
    "area = np.pi*3\n",
    "\n",
    "plt.scatter(g_paid['rating'], g_paid['total ratings'], s=area, c=colors, alpha=0.5)\n",
    "plt.title('Rating vs Total Ratings for Paid Games')\n",
    "plt.xlabel('Rating')\n",
    "plt.ylabel('Total Ratings')\n",
    "#plt.xlim(-1, 100)\n",
    "#plt.ylim(-1, 5)\n",
    "plt.show()"
   ]
  },
  {
   "cell_type": "code",
   "execution_count": 16,
   "metadata": {},
   "outputs": [
    {
     "name": "stderr",
     "output_type": "stream",
     "text": [
      "'c' argument looks like a single numeric RGB or RGBA sequence, which should be avoided as value-mapping will have precedence in case its length matches with 'x' & 'y'.  Please use a 2-D array with a single row if you really want to specify the same RGB or RGBA value for all points.\n"
     ]
    },
    {
     "data": {
      "image/png": "[encoded data removed]",
      "text/plain": [
       "<Figure size 432x288 with 1 Axes>"
      ]
     },
     "metadata": {},
     "output_type": "display_data"
    }
   ],
   "source": [
    "# free games\n",
    "colors = (0,0,0)\n",
    "area = np.pi*3\n",
    "\n",
    "plt.scatter(g_unpaid['rating'], g_unpaid['total ratings'], s=area, c=colors, alpha=0.5)\n",
    "plt.title('Rating vs Total Ratings for Free Games')\n",
    "plt.xlabel('Rating')\n",
    "plt.ylabel('Total Ratings')\n",
    "#plt.xlim(-1, 100)\n",
    "#plt.ylim(-1, 5)\n",
    "plt.show()"
   ]
  },
  {
   "cell_type": "markdown",
   "metadata": {},
   "source": [
    "### Content rating vs rating for Paid and Unpaid Games"
   ]
  },
  {
   "cell_type": "markdown",
   "metadata": {},
   "source": [
    "We tried to see if the content rating of an app, which specifies the age group that the app is catered towards, has any relation to the ratings. This was separated for paid and unpaid games.  "
   ]
  },
  {
   "cell_type": "code",
   "execution_count": 17,
   "metadata": {},
   "outputs": [
    {
     "name": "stderr",
     "output_type": "stream",
     "text": [
      "'c' argument looks like a single numeric RGB or RGBA sequence, which should be avoided as value-mapping will have precedence in case its length matches with 'x' & 'y'.  Please use a 2-D array with a single row if you really want to specify the same RGB or RGBA value for all points.\n"
     ]
    },
    {
     "data": {
      "image/png": "[encoded data removed]",
      "text/plain": [
       "<Figure size 432x288 with 1 Axes>"
      ]
     },
     "metadata": {},
     "output_type": "display_data"
    }
   ],
   "source": [
    "#paid games\n",
    "# rating vs total ratings\n",
    "colors = (0,0,0)\n",
    "area = np.pi*3\n",
    "\n",
    "plt.scatter(g_paid['cont_rating'], g_paid['rating'], s=area, c=colors, alpha=0.5)\n",
    "plt.title('Content rating vs Rating for Paid Games')\n",
    "plt.xlabel('Content rating')\n",
    "plt.ylabel('Rating')\n",
    "#plt.xlim(-1, 100)\n",
    "#plt.ylim(-1, 5)\n",
    "plt.show()"
   ]
  },
  {
   "cell_type": "code",
   "execution_count": 18,
   "metadata": {},
   "outputs": [
    {
     "name": "stderr",
     "output_type": "stream",
     "text": [
      "'c' argument looks like a single numeric RGB or RGBA sequence, which should be avoided as value-mapping will have precedence in case its length matches with 'x' & 'y'.  Please use a 2-D array with a single row if you really want to specify the same RGB or RGBA value for all points.\n"
     ]
    },
    {
     "data": {
      "image/png": "[encoded data removed]",
      "text/plain": [
       "<Figure size 432x288 with 1 Axes>"
      ]
     },
     "metadata": {},
     "output_type": "display_data"
    }
   ],
   "source": [
    "#unpaid games\n",
    "# rating vs total ratings\n",
    "colors = (0,0,0)\n",
    "area = np.pi*3\n",
    "\n",
    "plt.scatter(g_unpaid['cont_rating'], g_unpaid['rating'], s=area, c=colors, alpha=0.5)\n",
    "plt.title('Content rating vs Rating for Unpaid Games')\n",
    "plt.xlabel('Content rating')\n",
    "plt.ylabel('Rating')\n",
    "#plt.xlim(-1, 100)\n",
    "#plt.ylim(-1, 5)\n",
    "plt.show()"
   ]
  },
  {
   "cell_type": "markdown",
   "metadata": {},
   "source": [
    "## Apps - Paid vs Free "
   ]
  },
  {
   "cell_type": "markdown",
   "metadata": {},
   "source": [
    "Here, we looked at apps in general and compared the ratings for paid and free apps. "
   ]
  },
  {
   "cell_type": "code",
   "execution_count": 19,
   "metadata": {},
   "outputs": [
    {
     "name": "stderr",
     "output_type": "stream",
     "text": [
      "'c' argument looks like a single numeric RGB or RGBA sequence, which should be avoided as value-mapping will have precedence in case its length matches with 'x' & 'y'.  Please use a 2-D array with a single row if you really want to specify the same RGB or RGBA value for all points.\n"
     ]
    },
    {
     "data": {
      "image/png": "[encoded data removed]",
      "text/plain": [
       "<Figure size 432x288 with 1 Axes>"
      ]
     },
     "metadata": {},
     "output_type": "display_data"
    }
   ],
   "source": [
    "colors = (0,0,0)\n",
    "area = np.pi*3\n",
    "\n",
    "plt.scatter(a_paid['rating'], a_paid['total ratings'], s=area, c=colors, alpha=0.5)\n",
    "plt.title('Rating vs Total Ratings for Paid Apps')\n",
    "plt.xlabel('Rating')\n",
    "plt.ylabel('Total Ratings')\n",
    "#plt.xlim(-1, 100)\n",
    "#plt.ylim(-1, 1000000)\n",
    "plt.show()"
   ]
  },
  {
   "cell_type": "code",
   "execution_count": 20,
   "metadata": {},
   "outputs": [
    {
     "name": "stderr",
     "output_type": "stream",
     "text": [
      "'c' argument looks like a single numeric RGB or RGBA sequence, which should be avoided as value-mapping will have precedence in case its length matches with 'x' & 'y'.  Please use a 2-D array with a single row if you really want to specify the same RGB or RGBA value for all points.\n"
     ]
    },
    {
     "data": {
      "image/png": "[encoded data removed]",
      "text/plain": [
       "<Figure size 432x288 with 1 Axes>"
      ]
     },
     "metadata": {},
     "output_type": "display_data"
    }
   ],
   "source": [
    "colors = (0,0,0)\n",
    "area = np.pi*3\n",
    "\n",
    "plt.scatter(a_unpaid['rating'], a_unpaid['total ratings'], s=area, c=colors, alpha=0.5)\n",
    "plt.title('Rating vs Total Ratings for Unpaid Apps')\n",
    "plt.xlabel('Rating')\n",
    "plt.ylabel('Total Ratings')\n",
    "#plt.xlim(-1, 100)\n",
    "#plt.ylim(-1, 1000000)\n",
    "plt.show()"
   ]
  },
  {
   "cell_type": "markdown",
   "metadata": {},
   "source": [
    "# Content rating vs rating/ paid and free "
   ]
  },
  {
   "cell_type": "code",
   "execution_count": 21,
   "metadata": {},
   "outputs": [
    {
     "name": "stderr",
     "output_type": "stream",
     "text": [
      "'c' argument looks like a single numeric RGB or RGBA sequence, which should be avoided as value-mapping will have precedence in case its length matches with 'x' & 'y'.  Please use a 2-D array with a single row if you really want to specify the same RGB or RGBA value for all points.\n"
     ]
    },
    {
     "data": {
      "image/png": "[encoded data removed]",
      "text/plain": [
       "<Figure size 432x288 with 1 Axes>"
      ]
     },
     "metadata": {},
     "output_type": "display_data"
    }
   ],
   "source": [
    "#paid apps\n",
    "# content rating vs ratings\n",
    "colors = (0,0,0)\n",
    "area = np.pi*3\n",
    "\n",
    "plt.scatter(a_paid['cont_rating'], a_paid['rating'], s=area, c=colors, alpha=0.5)\n",
    "plt.title('Content rating vs Rating for Paid Games')\n",
    "plt.xlabel('Content rating')\n",
    "plt.ylabel('Rating')\n",
    "#plt.xlim(-1, 100)\n",
    "#plt.ylim(-1, 5)\n",
    "plt.show()"
   ]
  },
  {
   "cell_type": "code",
   "execution_count": 22,
   "metadata": {},
   "outputs": [
    {
     "name": "stderr",
     "output_type": "stream",
     "text": [
      "'c' argument looks like a single numeric RGB or RGBA sequence, which should be avoided as value-mapping will have precedence in case its length matches with 'x' & 'y'.  Please use a 2-D array with a single row if you really want to specify the same RGB or RGBA value for all points.\n"
     ]
    },
    {
     "data": {
      "image/png": "[encoded data removed]",
      "text/plain": [
       "<Figure size 432x288 with 1 Axes>"
      ]
     },
     "metadata": {},
     "output_type": "display_data"
    }
   ],
   "source": [
    "#paid apps\n",
    "# content rating vs total ratings\n",
    "colors = (0,0,0)\n",
    "area = np.pi*3\n",
    "\n",
    "plt.scatter(a_unpaid['cont_rating'], a_unpaid['rating'], s=area, c=colors, alpha=0.5)\n",
    "plt.title('Content rating vs Rating for Paid Games')\n",
    "plt.xlabel('Content rating')\n",
    "plt.ylabel('Rating')\n",
    "#plt.xlim(-1, 100)\n",
    "#plt.ylim(-1, 5)\n",
    "plt.show()"
   ]
  },
  {
   "cell_type": "markdown",
   "metadata": {},
   "source": [
    "## Comparing free vs paid apps"
   ]
  },
  {
   "cell_type": "markdown",
   "metadata": {},
   "source": [
    "Comparing free and paid games and apps and their ratings. The first graph looks at paid games vs. unpaid games and their ratings. The second graph does the same but with paid and unpaid apps."
   ]
  },
  {
   "cell_type": "code",
   "execution_count": 23,
   "metadata": {},
   "outputs": [
    {
     "name": "stderr",
     "output_type": "stream",
     "text": [
      "/opt/conda/lib/python3.6/site-packages/scipy/stats/stats.py:1713: FutureWarning: Using a non-tuple sequence for multidimensional indexing is deprecated; use `arr[tuple(seq)]` instead of `arr[seq]`. In the future this will be interpreted as an array index, `arr[np.array(seq)]`, which will result either in an error or a different result.\n",
      "  return np.add.reduce(sorted[indexer] * weights, axis=axis) / sumval\n"
     ]
    },
    {
     "name": "stdout",
     "output_type": "stream",
     "text": [
      "AxesSubplot(0.125,0.125;0.775x0.755)\n"
     ]
    },
    {
     "data": {
      "image/png": "[encoded data removed]",
      "text/plain": [
       "<Figure size 432x288 with 1 Axes>"
      ]
     },
     "metadata": {},
     "output_type": "display_data"
    }
   ],
   "source": [
    "sns.set_style(style='darkgrid')\n",
    "gp=sns.distplot(g_paid['rating'],hist=True,kde=True) #blue paid games\n",
    "gu=sns.distplot(g_unpaid ['rating'],hist=True,kde=True) #orange unpaid games\n",
    "ylabels = ['{:,.1f}'.format(y) for y in gp.get_yticks()*100]\n",
    "gp.set_yticklabels(ylabels)\n",
    "gp.set(ylabel = 'num of apps', xlabel='rating') \n",
    "print(gp)"
   ]
  },
  {
   "cell_type": "code",
   "execution_count": 24,
   "metadata": {},
   "outputs": [
    {
     "name": "stdout",
     "output_type": "stream",
     "text": [
      "AxesSubplot(0.125,0.125;0.775x0.755)\n"
     ]
    },
    {
     "data": {
      "image/png": "[encoded data removed]",
      "text/plain": [
       "<Figure size 432x288 with 1 Axes>"
      ]
     },
     "metadata": {},
     "output_type": "display_data"
    }
   ],
   "source": [
    "sns.set_style(style='darkgrid')\n",
    "ap=sns.distplot(a_paid['rating'],hist=True,kde=True) #blue paid apps \n",
    "au=sns.distplot(a_unpaid ['rating'],hist=True,kde=True) #orange unpaid apps\n",
    "ap.set(ylim = (0,1.4))\n",
    "ylabels = ['{:,.1f}'.format(y) for y in ap.get_yticks()*1000]\n",
    "ap.set_yticklabels(ylabels)\n",
    "ap.set(ylabel = 'num of apps', xlabel='rating') \n",
    "print(ap)"
   ]
  },
  {
   "cell_type": "markdown",
   "metadata": {},
   "source": [
    "# Ethics & Privacy"
   ]
  },
  {
   "cell_type": "markdown",
   "metadata": {},
   "source": [
    "We have permission to use the chosen dataset from Kaggle because it was made public on the Kaggle website with a GPL 2 license, which gives us the freedom to access, modify, and share the information. In addition, while we did not scrape data directly from Apple’s App Store, we used publicly available data - in our case, the Kaggle dataset. Being that this data has been made available to the public on Kaggle, we believe that we have permission to utilize this information in order to examine possible connections between various characteristics of mobile device applications and their popularity.\n",
    "\n",
    "In relation to privacy concerns, Kaggle collects information from users even if they have not created an account, such as what web browser, application, or mobile device they are utilizing. This website additionally collects information such as Internet Protocol Address (IP address), websites visited before and after using Kaggle, and the content you visit on Kaggle. However, the data that they collect from users is protected and anonymized, and the dataset did not collect user or device information that could identify unique individuals.\n",
    "\n",
    "The dataset represents a subset of the iOS App Store - specifically 7,200 apps -  and does not represent the store as a whole, which posed limitations in our data analysis. There are more than 2 million apps available in the Apple Store, so our sample data is roughly 0.36% of the entire dataset of apps. Therefore, we recognize the fact that our data analysis is not entirely comprehensive in determining whether an app’s features such as ratings and price have an influence on its popularity, which could have skewed the results of our analysis. Nevertheless, our findings from our data analysis allowed us to have a greater understanding of the prospective factors that could influence the popularity of an app.\n"
   ]
  },
  {
   "cell_type": "markdown",
   "metadata": {},
   "source": [
    "# Conclusion & Discussion"
   ]
  },
  {
   "cell_type": "markdown",
   "metadata": {},
   "source": [
    "Based on the results of our data analysis, we saw overall support for our null hypothesis with the exception of one situation. That exception was that paid games tended to get more positive ratings (4.5+ stars) than those that were unpaid. A possible reason is that companies who create paid apps could put more time into highlighting user experience and creating value for the user. Yet, this finding does not provide enough substance to conclude that paid apps have a higher likelihood of receiving high reviews. \n",
    "\n",
    "Considering the features that were observed, - price, content rating, number of ratings, average user rating, and primary genre - there did not seem to be an effect on an app’s popularity. We were unable to find statistical significance in relation to an app’s features and its popularity, thus proving that our null hypothesis is true. \n",
    "\n",
    "There are still improvements to be made with our project and limitations to be addressed. For instance, without knowing how to navigate Apple’s API, we lost out on the potential to extract information about the number of app downloads. Not only this, but we could have extracted data about top apps, instead of 7,200 random apps, in order to gain insight about what commonalities coexist between them. For the future, more experience and research would be necessary to address these obstacles."
   ]
  }
 ],
 "metadata": {
  "kernelspec": {
   "display_name": "Python 3",
   "language": "python",
   "name": "python3"
  },
  "language_info": {
   "codemirror_mode": {
    "name": "ipython",
    "version": 3
   },
   "file_extension": ".py",
   "mimetype": "text/x-python",
   "name": "python",
   "nbconvert_exporter": "python",
   "pygments_lexer": "ipython3",
   "version": "3.7.1"
  }
 },
 "nbformat": 4,
 "nbformat_minor": 2
}
